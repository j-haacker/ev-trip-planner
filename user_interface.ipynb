{
 "cells": [
  {
   "cell_type": "markdown",
   "metadata": {},
   "source": [
    "# Plan trips with an electric vehicle\n",
    "\n",
    "In some cases, planning a trip using battery powered vehicles requires\n",
    "different thoughts then when using an \"infinite\" power source. My goal\n",
    "is to offer a tiny package that helps you planning trips.\n",
    "\n",
    "This is work in progress. Request missing/desirable feature by opening\n",
    "an issue on github."
   ]
  },
  {
   "cell_type": "code",
   "execution_count": 1,
   "metadata": {},
   "outputs": [],
   "source": [
    "from ev_trip_planner import vehicle"
   ]
  },
  {
   "cell_type": "code",
   "execution_count": 2,
   "metadata": {},
   "outputs": [],
   "source": [
    "EV = vehicle(\n",
    "    battery_capacity_kWh=75,\n",
    "    battery_charging_rate_kWh_per_min=75*.8/20,  # equivalent to 80%/20min\n",
    "    battery_reserve_percent=10,  # will always retained as a buffer\n",
    "    # below a quadratic velocity dependent approx. is given\n",
    "    # corresponding to about 17 kWh/100km @ 110 km/h (22@130)\n",
    "    power_per_kmh = lambda velocity: \\\n",
    "        8.28571 - 0.0307143 * velocity + 0.00107143 * velocity**2\n",
    ")"
   ]
  },
  {
   "cell_type": "code",
   "execution_count": null,
   "metadata": {},
   "outputs": [],
   "source": [
    "EV.max_trip_speed(\n",
    "    distance=450,  # in km\n",
    "    break_number=1,\n",
    "    break_duration=15,  # in min\n",
    "    end_batt_state=60,\n",
    "    start_batt_state=100\n",
    ")"
   ]
  }
 ],
 "metadata": {
  "kernelspec": {
   "display_name": "Python 3",
   "language": "python",
   "name": "python3"
  },
  "language_info": {
   "codemirror_mode": {
    "name": "ipython",
    "version": 3
   },
   "file_extension": ".py",
   "mimetype": "text/x-python",
   "name": "python",
   "nbconvert_exporter": "python",
   "pygments_lexer": "ipython3",
   "version": "3.10.12"
  }
 },
 "nbformat": 4,
 "nbformat_minor": 2
}
