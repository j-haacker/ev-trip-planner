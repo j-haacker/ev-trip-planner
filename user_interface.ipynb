{
 "cells": [
  {
   "cell_type": "markdown",
   "metadata": {},
   "source": [
    "# Plan trips with an electric vehicle\n",
    "\n",
    "In some cases, planning a trip using battery powered vehicles requires\n",
    "different thoughts then when using an \"infinite\" power source. My goal\n",
    "is to offer a tiny package that helps you planning trips.\n",
    "\n",
    "This is work in progress. Request missing/desirable feature by opening\n",
    "an issue on github."
   ]
  },
  {
   "cell_type": "code",
   "execution_count": 1,
   "metadata": {},
   "outputs": [],
   "source": [
    "from ev_models import tesla_y_long"
   ]
  },
  {
   "cell_type": "code",
   "execution_count": 2,
   "metadata": {},
   "outputs": [],
   "source": [
    "EV = tesla_y_long()"
   ]
  },
  {
   "cell_type": "code",
   "execution_count": null,
   "metadata": {},
   "outputs": [],
   "source": [
    "EV.min_break_duration(\n",
    "    distance=450,  # in km\n",
    "    speed=110,  # in km/h\n",
    "    end_batt_state=30,\n",
    "    start_batt_state=100\n",
    ")"
   ]
  },
  {
   "cell_type": "code",
   "execution_count": null,
   "metadata": {},
   "outputs": [],
   "source": [
    "EV.max_trip_speed(\n",
    "    distance=450,  # in km\n",
    "    break_number=1,\n",
    "    break_duration=15,  # in min\n",
    "    end_batt_state=30,\n",
    "    start_batt_state=100\n",
    ")"
   ]
  }
 ],
 "metadata": {
  "kernelspec": {
   "display_name": "Python 3",
   "language": "python",
   "name": "python3"
  },
  "language_info": {
   "codemirror_mode": {
    "name": "ipython",
    "version": 3
   },
   "file_extension": ".py",
   "mimetype": "text/x-python",
   "name": "python",
   "nbconvert_exporter": "python",
   "pygments_lexer": "ipython3",
   "version": "3.10.12"
  }
 },
 "nbformat": 4,
 "nbformat_minor": 2
}
